{
 "cells": [
  {
   "cell_type": "code",
   "execution_count": 19,
   "id": "5ebfe15e",
   "metadata": {},
   "outputs": [],
   "source": [
    "from gensim.models import Word2Vec\n",
    "import multiprocessing\n",
    "import pickle\n",
    "import pandas as pd\n",
    "import os\n",
    "from time import time\n",
    "import logging\n",
    "logging.basicConfig(format=\"%(levelname)s - %(asctime)s: %(message)s\", datefmt= '%H:%M:%S', level=logging.INFO)"
   ]
  },
  {
   "cell_type": "code",
   "execution_count": 3,
   "id": "423d2a42",
   "metadata": {},
   "outputs": [],
   "source": [
    "#defining an iterator that reads the txt file line by line, converts all the letters to lowercase and \n",
    "#splits them on whitespace, creating a list of tokens for each tweet. The final corpus is thus a list of lists"
   ]
  },
  {
   "cell_type": "code",
   "execution_count": 4,
   "id": "1f3486b6",
   "metadata": {},
   "outputs": [],
   "source": [
    "class MyCorpus:\n",
    "    \n",
    "    def __init__(self, file):\n",
    "        self.file = file\n",
    "        \n",
    "    def __iter__(self):\n",
    "        with open(self.file, encoding = \"utf-8\") as f:\n",
    "            for row in f:\n",
    "                _row = row.lower().split()\n",
    "                yield _row"
   ]
  },
  {
   "cell_type": "code",
   "execution_count": 5,
   "id": "db0f8095",
   "metadata": {},
   "outputs": [],
   "source": [
    "#creating the corpus as an iterator"
   ]
  },
  {
   "cell_type": "code",
   "execution_count": null,
   "id": "6c9b9519",
   "metadata": {},
   "outputs": [],
   "source": [
    "sentences = MyCorpus(\"word2vec_tweets.txt\")"
   ]
  },
  {
   "cell_type": "code",
   "execution_count": 6,
   "id": "b923f610",
   "metadata": {},
   "outputs": [],
   "source": [
    "#initializing the word2vec model with context_window = 1, vector_size = 300"
   ]
  },
  {
   "cell_type": "code",
   "execution_count": 20,
   "id": "05e8633a",
   "metadata": {},
   "outputs": [
    {
     "name": "stderr",
     "output_type": "stream",
     "text": [
      "INFO - 14:44:53: Word2Vec lifecycle event {'params': 'Word2Vec<vocab=0, vector_size=300, alpha=0.03>', 'datetime': '2023-03-31T14:44:53.150452', 'gensim': '4.2.0', 'python': '3.8.13 (default, Mar 28 2022, 06:59:08) [MSC v.1916 64 bit (AMD64)]', 'platform': 'Windows-10-10.0.19044-SP0', 'event': 'created'}\n"
     ]
    }
   ],
   "source": [
    "cores = multiprocessing.cpu_count()\n",
    "w2v_model = Word2Vec(\n",
    "    min_count = 20,\n",
    "    window = 1,\n",
    "    vector_size = 300,\n",
    "    sample = 6e-05,\n",
    "    alpha = 0.03,\n",
    "    min_alpha = 0.0007,\n",
    "    negative = 20,\n",
    "    workers = cores - 2,\n",
    "    ns_exponent = 0.75,\n",
    "    sg = 0)"
   ]
  },
  {
   "cell_type": "code",
   "execution_count": 21,
   "id": "e1f4b8ba",
   "metadata": {},
   "outputs": [],
   "source": [
    "#building the vocabulary"
   ]
  },
  {
   "cell_type": "code",
   "execution_count": null,
   "id": "37ed9316",
   "metadata": {},
   "outputs": [],
   "source": [
    "t = time()\n",
    "w2v_model.build_vocab(sentences, progress_per = 10000)\n",
    "\n",
    "print(\"time to build vocab: {} mins\".format(round((time() - t)/60, 2)))"
   ]
  },
  {
   "cell_type": "code",
   "execution_count": 23,
   "id": "1b09cecb",
   "metadata": {},
   "outputs": [],
   "source": [
    "#training the word2vec model"
   ]
  },
  {
   "cell_type": "code",
   "execution_count": null,
   "id": "ff0ef352",
   "metadata": {},
   "outputs": [],
   "source": [
    "t = time()\n",
    "w2v_model.train(sentences, total_examples = w2v_model.corpus_count, epochs = 30, report_delay = 1)\n",
    "\n",
    "print(\"time taken to train model: {} mins\".format(round((time() - t)/60, 2)))"
   ]
  },
  {
   "cell_type": "code",
   "execution_count": 24,
   "id": "f1354ba4",
   "metadata": {},
   "outputs": [],
   "source": [
    "#saving the word2vec model to disk"
   ]
  },
  {
   "cell_type": "code",
   "execution_count": null,
   "id": "13d1faec",
   "metadata": {},
   "outputs": [],
   "source": [
    "pickle.dump(open(\"wv_model.pkl\", \"wb\"))"
   ]
  },
  {
   "cell_type": "code",
   "execution_count": 25,
   "id": "185da47c",
   "metadata": {},
   "outputs": [],
   "source": [
    "#if you are replicating the full thesis workflow, you need to save this model in the folder containing \n",
    "#the code and files for the sentiment analysis task as well"
   ]
  }
 ],
 "metadata": {
  "kernelspec": {
   "display_name": "Python [conda env:thesis]",
   "language": "python",
   "name": "conda-env-thesis-py"
  },
  "language_info": {
   "codemirror_mode": {
    "name": "ipython",
    "version": 3
   },
   "file_extension": ".py",
   "mimetype": "text/x-python",
   "name": "python",
   "nbconvert_exporter": "python",
   "pygments_lexer": "ipython3",
   "version": "3.8.13"
  }
 },
 "nbformat": 4,
 "nbformat_minor": 5
}
