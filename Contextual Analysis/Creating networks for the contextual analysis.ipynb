{
 "cells": [
  {
   "cell_type": "code",
   "execution_count": 57,
   "id": "4ef91c18",
   "metadata": {},
   "outputs": [],
   "source": [
    "import pickle\n",
    "import networkx as nx"
   ]
  },
  {
   "cell_type": "code",
   "execution_count": 3,
   "id": "ed6e7820",
   "metadata": {},
   "outputs": [],
   "source": [
    "#loading list of hinglish stopwords"
   ]
  },
  {
   "cell_type": "code",
   "execution_count": 4,
   "id": "d1d9c00c",
   "metadata": {},
   "outputs": [],
   "source": [
    "stopwords = pickle.load(open(\"hinglish_stopwords.pkl\", \"rb\"))"
   ]
  },
  {
   "cell_type": "code",
   "execution_count": 21,
   "id": "e81f9667",
   "metadata": {},
   "outputs": [],
   "source": [
    "####### week starting 26-02-2020 #######"
   ]
  },
  {
   "cell_type": "code",
   "execution_count": 6,
   "id": "a457240b",
   "metadata": {},
   "outputs": [],
   "source": [
    "#loading the trained word2vec model for the week starting 26-02-2020"
   ]
  },
  {
   "cell_type": "code",
   "execution_count": 9,
   "id": "0f525c88",
   "metadata": {},
   "outputs": [],
   "source": [
    "wv_model = pickle.load(open(\"weekly word2vec models\\\\week_2020-02-26.pkl\", \"rb\"))\n",
    "wv = wv_model.wv"
   ]
  },
  {
   "cell_type": "code",
   "execution_count": 13,
   "id": "553af993",
   "metadata": {},
   "outputs": [],
   "source": [
    "#creating a 2-hop ego network around the word \"muslims\". words(nodes) that have a similarity >= 0.5 to \n",
    "#muslims are considered the primary nodes. words which have a similarity >= 0.5 with these primary nodes are \n",
    "#considered the secondary nodes. words are connected(edges) to each other if they have a similarity >=0.5\n",
    "#the nodes list contains all the primary and secondary notes. #the edges list contains tuples denoting\n",
    "#(node_1, node_2, similarity) for any 2 nodes"
   ]
  },
  {
   "cell_type": "code",
   "execution_count": 11,
   "id": "7d9941d3",
   "metadata": {},
   "outputs": [],
   "source": [
    "nodes = []\n",
    "primary_nodes = [tup[0] for tup in wv.most_similar(positive = [\"muslims\"], topn = 200) if tup[1] >= 0.5 and tup[0] not in stopwords]\n",
    "for node_ in primary_nodes:\n",
    "    nodes.append(node_)\n",
    "secondary_nodes = []\n",
    "for node_ in nodes:\n",
    "    similar = [tup[0] for tup in wv.most_similar(positive = [node_], topn = 200) if tup[1] >= 0.5 and tup[0] not in stopwords]\n",
    "    for sim in similar:\n",
    "        secondary_nodes.append(sim)\n",
    "for node_ in secondary_nodes:\n",
    "    nodes.append(node_)\n",
    "nodes = list(set(nodes))\n",
    "edges = []\n",
    "for i in range(len(nodes) - 1):\n",
    "    for j in range(i + 1, len(nodes)):\n",
    "        if nodes[i] == \"muslims\":\n",
    "            if nodes[j] in primary_nodes:\n",
    "                sim = wv.similarity(nodes[i], nodes[j])\n",
    "                edges.append(((nodes[i], nodes[j]), sim))\n",
    "            else:\n",
    "                sim = 0\n",
    "                edges.append(((nodes[i], nodes[j]), sim))\n",
    "        elif nodes[j] == \"muslims\":\n",
    "            if nodes[i] in primary_nodes:\n",
    "                sim = wv.similarity(nodes[i], nodes[j])\n",
    "                edges.append(((nodes[i], nodes[j]), sim))\n",
    "            else:\n",
    "                sim = 0\n",
    "                edges.append(((nodes[i], nodes[j]), sim))\n",
    "        else:\n",
    "            sim = wv.similarity(nodes[i], nodes[j])\n",
    "            if sim >= 0.5:\n",
    "                edges.append(((nodes[i], nodes[j]), sim))\n",
    "            else:\n",
    "                edges.append(((nodes[i], nodes[j]), 0))"
   ]
  },
  {
   "cell_type": "code",
   "execution_count": 12,
   "id": "38907beb",
   "metadata": {},
   "outputs": [
    {
     "name": "stdout",
     "output_type": "stream",
     "text": [
      "218791\n",
      "662\n"
     ]
    }
   ],
   "source": [
    "print(len(edges))\n",
    "print(len(nodes))"
   ]
  },
  {
   "cell_type": "code",
   "execution_count": 14,
   "id": "ba9ac043",
   "metadata": {},
   "outputs": [],
   "source": [
    "#creating a network that can be read by the graphing software gephi"
   ]
  },
  {
   "cell_type": "code",
   "execution_count": 17,
   "id": "c42d8d95",
   "metadata": {},
   "outputs": [],
   "source": [
    "G = nx.Graph()\n",
    "for node in nodes:\n",
    "    G.add_node(node)\n",
    "for edge in edges:\n",
    "    G.add_edge(edge[0][0], edge[0][1], weight = float(edge[1]))"
   ]
  },
  {
   "cell_type": "code",
   "execution_count": 18,
   "id": "9889a5dc",
   "metadata": {},
   "outputs": [],
   "source": [
    "#saving the network to disk"
   ]
  },
  {
   "cell_type": "code",
   "execution_count": 20,
   "id": "e0bc4984",
   "metadata": {},
   "outputs": [],
   "source": [
    "nx.write_gml(G, \"networks\\\\26_02.gml\")"
   ]
  },
  {
   "cell_type": "code",
   "execution_count": 44,
   "id": "caf79fb3",
   "metadata": {},
   "outputs": [],
   "source": [
    "####### week starting 19-02-2020 #######"
   ]
  },
  {
   "cell_type": "code",
   "execution_count": 45,
   "id": "cf4bbee1",
   "metadata": {},
   "outputs": [],
   "source": [
    "wv_model = pickle.load(open(\"weekly word2vec models\\\\week_2020-02-19.pkl\", \"rb\"))\n",
    "wv = wv_model.wv"
   ]
  },
  {
   "cell_type": "code",
   "execution_count": 46,
   "id": "a986007a",
   "metadata": {},
   "outputs": [],
   "source": [
    "nodes = []\n",
    "primary_nodes = [tup[0] for tup in wv.most_similar(positive = [\"muslims\"], topn = 200) if tup[1] >= 0.5 and tup[0] not in stopwords]\n",
    "for node_ in primary_nodes:\n",
    "    nodes.append(node_)\n",
    "secondary_nodes = []\n",
    "for node_ in nodes:\n",
    "    similar = [tup[0] for tup in wv.most_similar(positive = [node_], topn = 200) if tup[1] >= 0.5 and tup[0] not in stopwords]\n",
    "    for sim in similar:\n",
    "        secondary_nodes.append(sim)\n",
    "for node_ in secondary_nodes:\n",
    "    nodes.append(node_)\n",
    "nodes = list(set(nodes))\n",
    "edges = []\n",
    "for i in range(len(nodes) - 1):\n",
    "    for j in range(i + 1, len(nodes)):\n",
    "        if nodes[i] == \"muslims\":\n",
    "            if nodes[j] in primary_nodes:\n",
    "                sim = wv.similarity(nodes[i], nodes[j])\n",
    "                edges.append(((nodes[i], nodes[j]), sim))\n",
    "            else:\n",
    "                sim = 0\n",
    "                edges.append(((nodes[i], nodes[j]), sim))\n",
    "        elif nodes[j] == \"muslims\":\n",
    "            if nodes[i] in primary_nodes:\n",
    "                sim = wv.similarity(nodes[i], nodes[j])\n",
    "                edges.append(((nodes[i], nodes[j]), sim))\n",
    "            else:\n",
    "                sim = 0\n",
    "                edges.append(((nodes[i], nodes[j]), sim))\n",
    "        else:\n",
    "            sim = wv.similarity(nodes[i], nodes[j])\n",
    "            if sim >= 0.5:\n",
    "                edges.append(((nodes[i], nodes[j]), sim))\n",
    "            else:\n",
    "                edges.append(((nodes[i], nodes[j]), 0))"
   ]
  },
  {
   "cell_type": "code",
   "execution_count": 47,
   "id": "a93c5119",
   "metadata": {},
   "outputs": [
    {
     "name": "stdout",
     "output_type": "stream",
     "text": [
      "241860\n",
      "696\n"
     ]
    }
   ],
   "source": [
    "print(len(edges))\n",
    "print(len(nodes))"
   ]
  },
  {
   "cell_type": "code",
   "execution_count": 48,
   "id": "034babe7",
   "metadata": {},
   "outputs": [],
   "source": [
    "G = nx.Graph()\n",
    "for node in nodes:\n",
    "    G.add_node(node)\n",
    "for edge in edges:\n",
    "    G.add_edge(edge[0][0], edge[0][1], weight = float(edge[1]))"
   ]
  },
  {
   "cell_type": "code",
   "execution_count": 49,
   "id": "6881c0f5",
   "metadata": {},
   "outputs": [],
   "source": [
    "nx.write_gml(G, \"networks\\\\19_02.gml\")"
   ]
  },
  {
   "cell_type": "code",
   "execution_count": 24,
   "id": "96c7da8d",
   "metadata": {},
   "outputs": [],
   "source": [
    "####### week starting 01-04-2020 #######"
   ]
  },
  {
   "cell_type": "code",
   "execution_count": 23,
   "id": "e79a71a8",
   "metadata": {},
   "outputs": [],
   "source": [
    "wv_model = pickle.load(open(\"weekly word2vec models\\\\week_2020-04-01.pkl\", \"rb\"))\n",
    "wv = wv_model.wv"
   ]
  },
  {
   "cell_type": "code",
   "execution_count": 25,
   "id": "3955e040",
   "metadata": {},
   "outputs": [],
   "source": [
    "nodes = []\n",
    "primary_nodes = [tup[0] for tup in wv.most_similar(positive = [\"muslims\"], topn = 200) if tup[1] >= 0.5 and tup[0] not in stopwords]\n",
    "for node_ in primary_nodes:\n",
    "    nodes.append(node_)\n",
    "secondary_nodes = []\n",
    "for node_ in nodes:\n",
    "    similar = [tup[0] for tup in wv.most_similar(positive = [node_], topn = 200) if tup[1] >= 0.5 and tup[0] not in stopwords]\n",
    "    for sim in similar:\n",
    "        secondary_nodes.append(sim)\n",
    "for node_ in secondary_nodes:\n",
    "    nodes.append(node_)\n",
    "nodes = list(set(nodes))\n",
    "edges = []\n",
    "for i in range(len(nodes) - 1):\n",
    "    for j in range(i + 1, len(nodes)):\n",
    "        if nodes[i] == \"muslims\":\n",
    "            if nodes[j] in primary_nodes:\n",
    "                sim = wv.similarity(nodes[i], nodes[j])\n",
    "                edges.append(((nodes[i], nodes[j]), sim))\n",
    "            else:\n",
    "                sim = 0\n",
    "                edges.append(((nodes[i], nodes[j]), sim))\n",
    "        elif nodes[j] == \"muslims\":\n",
    "            if nodes[i] in primary_nodes:\n",
    "                sim = wv.similarity(nodes[i], nodes[j])\n",
    "                edges.append(((nodes[i], nodes[j]), sim))\n",
    "            else:\n",
    "                sim = 0\n",
    "                edges.append(((nodes[i], nodes[j]), sim))\n",
    "        else:\n",
    "            sim = wv.similarity(nodes[i], nodes[j])\n",
    "            if sim >= 0.5:\n",
    "                edges.append(((nodes[i], nodes[j]), sim))\n",
    "            else:\n",
    "                edges.append(((nodes[i], nodes[j]), 0))"
   ]
  },
  {
   "cell_type": "code",
   "execution_count": 26,
   "id": "fd406e79",
   "metadata": {},
   "outputs": [
    {
     "name": "stdout",
     "output_type": "stream",
     "text": [
      "177310\n",
      "596\n"
     ]
    }
   ],
   "source": [
    "print(len(edges))\n",
    "print(len(nodes))"
   ]
  },
  {
   "cell_type": "code",
   "execution_count": 27,
   "id": "562e9b0c",
   "metadata": {},
   "outputs": [],
   "source": [
    "G = nx.Graph()\n",
    "for node in nodes:\n",
    "    G.add_node(node)\n",
    "for edge in edges:\n",
    "    G.add_edge(edge[0][0], edge[0][1], weight = float(edge[1]))"
   ]
  },
  {
   "cell_type": "code",
   "execution_count": 28,
   "id": "4cf304c3",
   "metadata": {},
   "outputs": [],
   "source": [
    "nx.write_gml(G, \"networks\\\\01_04.gml\")"
   ]
  },
  {
   "cell_type": "code",
   "execution_count": 29,
   "id": "45ca14da",
   "metadata": {},
   "outputs": [],
   "source": [
    "####### week starting 08-04-2020 #######"
   ]
  },
  {
   "cell_type": "code",
   "execution_count": 30,
   "id": "378a6392",
   "metadata": {},
   "outputs": [],
   "source": [
    "wv_model = pickle.load(open(\"weekly word2vec models\\\\week_2020-04-08.pkl\", \"rb\"))\n",
    "wv = wv_model.wv"
   ]
  },
  {
   "cell_type": "code",
   "execution_count": 33,
   "id": "7304fdfa",
   "metadata": {},
   "outputs": [],
   "source": [
    "nodes = []\n",
    "primary_nodes = [tup[0] for tup in wv.most_similar(positive = [\"muslims\"], topn = 200) if tup[1] >= 0.5 and tup[0] not in stopwords]\n",
    "for node_ in primary_nodes:\n",
    "    nodes.append(node_)\n",
    "secondary_nodes = []\n",
    "for node_ in nodes:\n",
    "    similar = [tup[0] for tup in wv.most_similar(positive = [node_], topn = 200) if tup[1] >= 0.5 and tup[0] not in stopwords]\n",
    "    for sim in similar:\n",
    "        secondary_nodes.append(sim)\n",
    "for node_ in secondary_nodes:\n",
    "    nodes.append(node_)\n",
    "nodes = list(set(nodes))\n",
    "edges = []\n",
    "for i in range(len(nodes) - 1):\n",
    "    for j in range(i + 1, len(nodes)):\n",
    "        if nodes[i] == \"muslims\":\n",
    "            if nodes[j] in primary_nodes:\n",
    "                sim = wv.similarity(nodes[i], nodes[j])\n",
    "                edges.append(((nodes[i], nodes[j]), sim))\n",
    "            else:\n",
    "                sim = 0\n",
    "                edges.append(((nodes[i], nodes[j]), sim))\n",
    "        elif nodes[j] == \"muslims\":\n",
    "            if nodes[i] in primary_nodes:\n",
    "                sim = wv.similarity(nodes[i], nodes[j])\n",
    "                edges.append(((nodes[i], nodes[j]), sim))\n",
    "            else:\n",
    "                sim = 0\n",
    "                edges.append(((nodes[i], nodes[j]), sim))\n",
    "        else:\n",
    "            sim = wv.similarity(nodes[i], nodes[j])\n",
    "            if sim >= 0.5:\n",
    "                edges.append(((nodes[i], nodes[j]), sim))\n",
    "            else:\n",
    "                edges.append(((nodes[i], nodes[j]), 0))"
   ]
  },
  {
   "cell_type": "code",
   "execution_count": 34,
   "id": "3222d327",
   "metadata": {},
   "outputs": [],
   "source": [
    "G = nx.Graph()\n",
    "for node in nodes:\n",
    "    G.add_node(node)\n",
    "for edge in edges:\n",
    "    G.add_edge(edge[0][0], edge[0][1], weight = float(edge[1]))"
   ]
  },
  {
   "cell_type": "code",
   "execution_count": 35,
   "id": "10feca22",
   "metadata": {},
   "outputs": [],
   "source": [
    "nx.write_gml(G, \"networks\\\\08_04.gml\")"
   ]
  },
  {
   "cell_type": "code",
   "execution_count": 36,
   "id": "f3916507",
   "metadata": {},
   "outputs": [],
   "source": [
    "####### week starting 15-04-2020 #######"
   ]
  },
  {
   "cell_type": "code",
   "execution_count": 37,
   "id": "0c6ef28b",
   "metadata": {},
   "outputs": [],
   "source": [
    "wv_model = pickle.load(open(\"weekly word2vec models\\\\week_2020-04-15.pkl\", \"rb\"))\n",
    "wv = wv_model.wv"
   ]
  },
  {
   "cell_type": "code",
   "execution_count": 38,
   "id": "a773b564",
   "metadata": {},
   "outputs": [],
   "source": [
    "nodes = []\n",
    "primary_nodes = [tup[0] for tup in wv.most_similar(positive = [\"muslims\"], topn = 200) if tup[1] >= 0.5 and tup[0] not in stopwords]\n",
    "for node_ in primary_nodes:\n",
    "    nodes.append(node_)\n",
    "secondary_nodes = []\n",
    "for node_ in nodes:\n",
    "    similar = [tup[0] for tup in wv.most_similar(positive = [node_], topn = 200) if tup[1] >= 0.5 and tup[0] not in stopwords]\n",
    "    for sim in similar:\n",
    "        secondary_nodes.append(sim)\n",
    "for node_ in secondary_nodes:\n",
    "    nodes.append(node_)\n",
    "nodes = list(set(nodes))\n",
    "edges = []\n",
    "for i in range(len(nodes) - 1):\n",
    "    for j in range(i + 1, len(nodes)):\n",
    "        if nodes[i] == \"muslims\":\n",
    "            if nodes[j] in primary_nodes:\n",
    "                sim = wv.similarity(nodes[i], nodes[j])\n",
    "                edges.append(((nodes[i], nodes[j]), sim))\n",
    "            else:\n",
    "                sim = 0\n",
    "                edges.append(((nodes[i], nodes[j]), sim))\n",
    "        elif nodes[j] == \"muslims\":\n",
    "            if nodes[i] in primary_nodes:\n",
    "                sim = wv.similarity(nodes[i], nodes[j])\n",
    "                edges.append(((nodes[i], nodes[j]), sim))\n",
    "            else:\n",
    "                sim = 0\n",
    "                edges.append(((nodes[i], nodes[j]), sim))\n",
    "        else:\n",
    "            sim = wv.similarity(nodes[i], nodes[j])\n",
    "            if sim >= 0.5:\n",
    "                edges.append(((nodes[i], nodes[j]), sim))\n",
    "            else:\n",
    "                edges.append(((nodes[i], nodes[j]), 0))"
   ]
  },
  {
   "cell_type": "code",
   "execution_count": 39,
   "id": "402160d8",
   "metadata": {},
   "outputs": [],
   "source": [
    "G = nx.Graph()\n",
    "for node in nodes:\n",
    "    G.add_node(node)\n",
    "for edge in edges:\n",
    "    G.add_edge(edge[0][0], edge[0][1], weight = float(edge[1]))"
   ]
  },
  {
   "cell_type": "code",
   "execution_count": 40,
   "id": "9ffdfe1d",
   "metadata": {},
   "outputs": [],
   "source": [
    "nx.write_gml(G, \"networks\\\\15_04.gml\")"
   ]
  },
  {
   "cell_type": "code",
   "execution_count": 52,
   "id": "4bbee28f",
   "metadata": {},
   "outputs": [],
   "source": [
    "####### week starting 22-04-2020 #######"
   ]
  },
  {
   "cell_type": "code",
   "execution_count": 53,
   "id": "1f050c30",
   "metadata": {},
   "outputs": [],
   "source": [
    "wv_model = pickle.load(open(\"weekly word2vec models\\\\week_2020-04-22.pkl\", \"rb\"))\n",
    "wv = wv_model.wv"
   ]
  },
  {
   "cell_type": "code",
   "execution_count": 54,
   "id": "75c8bc35",
   "metadata": {},
   "outputs": [],
   "source": [
    "nodes = []\n",
    "primary_nodes = [tup[0] for tup in wv.most_similar(positive = [\"muslims\"], topn = 200) if tup[1] >= 0.5 and tup[0] not in stopwords]\n",
    "for node_ in primary_nodes:\n",
    "    nodes.append(node_)\n",
    "secondary_nodes = []\n",
    "for node_ in nodes:\n",
    "    similar = [tup[0] for tup in wv.most_similar(positive = [node_], topn = 200) if tup[1] >= 0.5 and tup[0] not in stopwords]\n",
    "    for sim in similar:\n",
    "        secondary_nodes.append(sim)\n",
    "for node_ in secondary_nodes:\n",
    "    nodes.append(node_)\n",
    "nodes = list(set(nodes))\n",
    "edges = []\n",
    "for i in range(len(nodes) - 1):\n",
    "    for j in range(i + 1, len(nodes)):\n",
    "        if nodes[i] == \"muslims\":\n",
    "            if nodes[j] in primary_nodes:\n",
    "                sim = wv.similarity(nodes[i], nodes[j])\n",
    "                edges.append(((nodes[i], nodes[j]), sim))\n",
    "            else:\n",
    "                sim = 0\n",
    "                edges.append(((nodes[i], nodes[j]), sim))\n",
    "        elif nodes[j] == \"muslims\":\n",
    "            if nodes[i] in primary_nodes:\n",
    "                sim = wv.similarity(nodes[i], nodes[j])\n",
    "                edges.append(((nodes[i], nodes[j]), sim))\n",
    "            else:\n",
    "                sim = 0\n",
    "                edges.append(((nodes[i], nodes[j]), sim))\n",
    "        else:\n",
    "            sim = wv.similarity(nodes[i], nodes[j])\n",
    "            if sim >= 0.5:\n",
    "                edges.append(((nodes[i], nodes[j]), sim))\n",
    "            else:\n",
    "                edges.append(((nodes[i], nodes[j]), 0))"
   ]
  },
  {
   "cell_type": "code",
   "execution_count": 55,
   "id": "7b3456e0",
   "metadata": {},
   "outputs": [],
   "source": [
    "G = nx.Graph()\n",
    "for node in nodes:\n",
    "    G.add_node(node)\n",
    "for edge in edges:\n",
    "    G.add_edge(edge[0][0], edge[0][1], weight = float(edge[1]))"
   ]
  },
  {
   "cell_type": "code",
   "execution_count": 56,
   "id": "1b844cec",
   "metadata": {},
   "outputs": [],
   "source": [
    "nx.write_gml(G, \"networks\\\\22_04.gml\")"
   ]
  }
 ],
 "metadata": {
  "kernelspec": {
   "display_name": "Python [conda env:thesis]",
   "language": "python",
   "name": "conda-env-thesis-py"
  },
  "language_info": {
   "codemirror_mode": {
    "name": "ipython",
    "version": 3
   },
   "file_extension": ".py",
   "mimetype": "text/x-python",
   "name": "python",
   "nbconvert_exporter": "python",
   "pygments_lexer": "ipython3",
   "version": "3.8.13"
  }
 },
 "nbformat": 4,
 "nbformat_minor": 5
}
