{
 "cells": [
  {
   "cell_type": "code",
   "execution_count": 1,
   "id": "0f310620",
   "metadata": {},
   "outputs": [],
   "source": [
    "import pandas as pd\n",
    "pd.set_option(\"display.max_colwidth\", None)\n",
    "import numpy as np\n",
    "import pickle\n",
    "import logging\n",
    "logging.basicConfig(format=\"%(levelname)s - %(asctime)s: %(message)s\", datefmt= '%H:%M:%S', level=logging.INFO)\n",
    "from time import time\n",
    "import os\n",
    "import re\n",
    "import csv\n",
    "from gensim.models import Word2Vec\n",
    "import multiprocessing\n",
    "from sklearn.feature_extraction.text import CountVectorizer\n",
    "from sklearn.pipeline import Pipeline\n",
    "from sklearn.impute import SimpleImputer\n",
    "from sklearn.compose import ColumnTransformer\n",
    "from sklearn.preprocessing import PowerTransformer\n",
    "from sklearn.model_selection import GridSearchCV\n",
    "from sklearn.model_selection import KFold\n",
    "from sklearn.model_selection import StratifiedKFold\n",
    "from sklearn.model_selection import cross_val_score\n",
    "from sklearn.metrics import balanced_accuracy_score\n",
    "from sklearn.metrics import f1_score\n",
    "from sklearn.svm import SVC\n",
    "from sklearn.metrics import ConfusionMatrixDisplay\n",
    "from sklearn.preprocessing import LabelEncoder\n",
    "from sklearn.metrics import classification_report\n",
    "import matplotlib.pyplot as plt"
   ]
  },
  {
   "cell_type": "code",
   "execution_count": 2,
   "id": "2aae4ffd",
   "metadata": {},
   "outputs": [],
   "source": [
    "#load training data"
   ]
  },
  {
   "cell_type": "code",
   "execution_count": 2,
   "id": "b9c47f4f",
   "metadata": {},
   "outputs": [
    {
     "data": {
      "text/plain": [
       "(17000, 6)"
      ]
     },
     "execution_count": 2,
     "metadata": {},
     "output_type": "execute_result"
    }
   ],
   "source": [
    "train_data = pickle.load(open(\"training_data.pkl\", \"rb\"))\n",
    "train_data.shape"
   ]
  },
  {
   "cell_type": "code",
   "execution_count": 3,
   "id": "207a9851",
   "metadata": {},
   "outputs": [
    {
     "data": {
      "text/html": [
       "<div>\n",
       "<style scoped>\n",
       "    .dataframe tbody tr th:only-of-type {\n",
       "        vertical-align: middle;\n",
       "    }\n",
       "\n",
       "    .dataframe tbody tr th {\n",
       "        vertical-align: top;\n",
       "    }\n",
       "\n",
       "    .dataframe thead th {\n",
       "        text-align: right;\n",
       "    }\n",
       "</style>\n",
       "<table border=\"1\" class=\"dataframe\">\n",
       "  <thead>\n",
       "    <tr style=\"text-align: right;\">\n",
       "      <th></th>\n",
       "      <th>id</th>\n",
       "      <th>polarity</th>\n",
       "      <th>tweet</th>\n",
       "      <th>caps_share</th>\n",
       "      <th>cleaned_tweet</th>\n",
       "      <th>emojis</th>\n",
       "    </tr>\n",
       "  </thead>\n",
       "  <tbody>\n",
       "    <tr>\n",
       "      <th>0</th>\n",
       "      <td>4330</td>\n",
       "      <td>neutral</td>\n",
       "      <td>nen á vist bolest vztek smutek zmatek osam ě lost beznad ě j a nakonec jen klid Asi takhle vypad á m ů j life ...</td>\n",
       "      <td>0.011236</td>\n",
       "      <td>nen vist bolest vztek smutek zmatek osam lost beznad nakonec jen klid asi takhle vypad life</td>\n",
       "      <td></td>\n",
       "    </tr>\n",
       "    <tr>\n",
       "      <th>1</th>\n",
       "      <td>41616</td>\n",
       "      <td>neutral</td>\n",
       "      <td>@ nehantics Haan yaar neha 😔😔 kab karega woh post 😭 Usne na sach mein photoshoot karna chahiye phir woh post karega … https // tco / 5RSlSbZNtt</td>\n",
       "      <td>0.059829</td>\n",
       "      <td>haan yaar neha kab karega woh post usne na sach mein photoshoot karna chahiye phir woh post karega</td>\n",
       "      <td>loudly_crying_face pensive_face pensive_face</td>\n",
       "    </tr>\n",
       "    <tr>\n",
       "      <th>2</th>\n",
       "      <td>6648</td>\n",
       "      <td>negative</td>\n",
       "      <td>@ RahulGandhi television media congress ke liye nhi h . Ye toh aapko pata chal hi gya hoga . Achha hoga ki Congress ke … https // t . co / HmH8M7PTaK</td>\n",
       "      <td>0.092437</td>\n",
       "      <td>television media congress ke liye nhi ye toh aapko pata chal hi gya hoga achha hoga ki congress ke</td>\n",
       "      <td></td>\n",
       "    </tr>\n",
       "    <tr>\n",
       "      <th>3</th>\n",
       "      <td>2512</td>\n",
       "      <td>positive</td>\n",
       "      <td>@ AmitShah @ narendramodi All India me nrc lagu kare w Kashmir se dhara 370ko khatam kare ham Indian ko apse yahi umid hai</td>\n",
       "      <td>0.060000</td>\n",
       "      <td>all india me nrc lagu kare kashmir se dhara khatam kare ham indian ko apse yahi umid hai</td>\n",
       "      <td></td>\n",
       "    </tr>\n",
       "    <tr>\n",
       "      <th>4</th>\n",
       "      <td>610</td>\n",
       "      <td>neutral</td>\n",
       "      <td>@ Nehr _ who @ TypoMantri @ anjanaomkashyap Pagal hai kya ? They aren ’ t real issues Mandir is important Hindu khatre mei jo hai !</td>\n",
       "      <td>0.066038</td>\n",
       "      <td>pagal hai kya they are not real issues mandir is important hindu khatre mei jo hai</td>\n",
       "      <td></td>\n",
       "    </tr>\n",
       "  </tbody>\n",
       "</table>\n",
       "</div>"
      ],
      "text/plain": [
       "      id  polarity  \\\n",
       "0   4330   neutral   \n",
       "1  41616   neutral   \n",
       "2   6648  negative   \n",
       "3   2512  positive   \n",
       "4    610   neutral   \n",
       "\n",
       "                                                                                                                                                   tweet  \\\n",
       "0                                      nen á vist bolest vztek smutek zmatek osam ě lost beznad ě j a nakonec jen klid Asi takhle vypad á m ů j life ...   \n",
       "1        @ nehantics Haan yaar neha 😔😔 kab karega woh post 😭 Usne na sach mein photoshoot karna chahiye phir woh post karega … https // tco / 5RSlSbZNtt   \n",
       "2  @ RahulGandhi television media congress ke liye nhi h . Ye toh aapko pata chal hi gya hoga . Achha hoga ki Congress ke … https // t . co / HmH8M7PTaK   \n",
       "3                             @ AmitShah @ narendramodi All India me nrc lagu kare w Kashmir se dhara 370ko khatam kare ham Indian ko apse yahi umid hai   \n",
       "4                    @ Nehr _ who @ TypoMantri @ anjanaomkashyap Pagal hai kya ? They aren ’ t real issues Mandir is important Hindu khatre mei jo hai !   \n",
       "\n",
       "   caps_share  \\\n",
       "0    0.011236   \n",
       "1    0.059829   \n",
       "2    0.092437   \n",
       "3    0.060000   \n",
       "4    0.066038   \n",
       "\n",
       "                                                                                        cleaned_tweet  \\\n",
       "0         nen vist bolest vztek smutek zmatek osam lost beznad nakonec jen klid asi takhle vypad life   \n",
       "1  haan yaar neha kab karega woh post usne na sach mein photoshoot karna chahiye phir woh post karega   \n",
       "2  television media congress ke liye nhi ye toh aapko pata chal hi gya hoga achha hoga ki congress ke   \n",
       "3            all india me nrc lagu kare kashmir se dhara khatam kare ham indian ko apse yahi umid hai   \n",
       "4                  pagal hai kya they are not real issues mandir is important hindu khatre mei jo hai   \n",
       "\n",
       "                                         emojis  \n",
       "0                                                \n",
       "1  loudly_crying_face pensive_face pensive_face  \n",
       "2                                                \n",
       "3                                                \n",
       "4                                                "
      ]
     },
     "execution_count": 3,
     "metadata": {},
     "output_type": "execute_result"
    }
   ],
   "source": [
    "train_data.head()"
   ]
  },
  {
   "cell_type": "code",
   "execution_count": 7,
   "id": "97a582b8",
   "metadata": {},
   "outputs": [],
   "source": [
    "#encoding categorical polarities into numerical"
   ]
  },
  {
   "cell_type": "code",
   "execution_count": 4,
   "id": "b81339af",
   "metadata": {},
   "outputs": [],
   "source": [
    "LE = LabelEncoder()\n",
    "train_data[\"polarity\"] = LE.fit_transform(train_data[\"polarity\"])"
   ]
  },
  {
   "cell_type": "code",
   "execution_count": 5,
   "id": "8bfece8c",
   "metadata": {},
   "outputs": [
    {
     "data": {
      "text/html": [
       "<div>\n",
       "<style scoped>\n",
       "    .dataframe tbody tr th:only-of-type {\n",
       "        vertical-align: middle;\n",
       "    }\n",
       "\n",
       "    .dataframe tbody tr th {\n",
       "        vertical-align: top;\n",
       "    }\n",
       "\n",
       "    .dataframe thead th {\n",
       "        text-align: right;\n",
       "    }\n",
       "</style>\n",
       "<table border=\"1\" class=\"dataframe\">\n",
       "  <thead>\n",
       "    <tr style=\"text-align: right;\">\n",
       "      <th></th>\n",
       "      <th>id</th>\n",
       "      <th>polarity</th>\n",
       "      <th>tweet</th>\n",
       "      <th>caps_share</th>\n",
       "      <th>cleaned_tweet</th>\n",
       "      <th>emojis</th>\n",
       "    </tr>\n",
       "  </thead>\n",
       "  <tbody>\n",
       "    <tr>\n",
       "      <th>0</th>\n",
       "      <td>4330</td>\n",
       "      <td>1</td>\n",
       "      <td>nen á vist bolest vztek smutek zmatek osam ě lost beznad ě j a nakonec jen klid Asi takhle vypad á m ů j life ...</td>\n",
       "      <td>0.011236</td>\n",
       "      <td>nen vist bolest vztek smutek zmatek osam lost beznad nakonec jen klid asi takhle vypad life</td>\n",
       "      <td></td>\n",
       "    </tr>\n",
       "    <tr>\n",
       "      <th>1</th>\n",
       "      <td>41616</td>\n",
       "      <td>1</td>\n",
       "      <td>@ nehantics Haan yaar neha 😔😔 kab karega woh post 😭 Usne na sach mein photoshoot karna chahiye phir woh post karega … https // tco / 5RSlSbZNtt</td>\n",
       "      <td>0.059829</td>\n",
       "      <td>haan yaar neha kab karega woh post usne na sach mein photoshoot karna chahiye phir woh post karega</td>\n",
       "      <td>loudly_crying_face pensive_face pensive_face</td>\n",
       "    </tr>\n",
       "    <tr>\n",
       "      <th>2</th>\n",
       "      <td>6648</td>\n",
       "      <td>0</td>\n",
       "      <td>@ RahulGandhi television media congress ke liye nhi h . Ye toh aapko pata chal hi gya hoga . Achha hoga ki Congress ke … https // t . co / HmH8M7PTaK</td>\n",
       "      <td>0.092437</td>\n",
       "      <td>television media congress ke liye nhi ye toh aapko pata chal hi gya hoga achha hoga ki congress ke</td>\n",
       "      <td></td>\n",
       "    </tr>\n",
       "    <tr>\n",
       "      <th>3</th>\n",
       "      <td>2512</td>\n",
       "      <td>2</td>\n",
       "      <td>@ AmitShah @ narendramodi All India me nrc lagu kare w Kashmir se dhara 370ko khatam kare ham Indian ko apse yahi umid hai</td>\n",
       "      <td>0.060000</td>\n",
       "      <td>all india me nrc lagu kare kashmir se dhara khatam kare ham indian ko apse yahi umid hai</td>\n",
       "      <td></td>\n",
       "    </tr>\n",
       "    <tr>\n",
       "      <th>4</th>\n",
       "      <td>610</td>\n",
       "      <td>1</td>\n",
       "      <td>@ Nehr _ who @ TypoMantri @ anjanaomkashyap Pagal hai kya ? They aren ’ t real issues Mandir is important Hindu khatre mei jo hai !</td>\n",
       "      <td>0.066038</td>\n",
       "      <td>pagal hai kya they are not real issues mandir is important hindu khatre mei jo hai</td>\n",
       "      <td></td>\n",
       "    </tr>\n",
       "  </tbody>\n",
       "</table>\n",
       "</div>"
      ],
      "text/plain": [
       "      id  polarity  \\\n",
       "0   4330         1   \n",
       "1  41616         1   \n",
       "2   6648         0   \n",
       "3   2512         2   \n",
       "4    610         1   \n",
       "\n",
       "                                                                                                                                                   tweet  \\\n",
       "0                                      nen á vist bolest vztek smutek zmatek osam ě lost beznad ě j a nakonec jen klid Asi takhle vypad á m ů j life ...   \n",
       "1        @ nehantics Haan yaar neha 😔😔 kab karega woh post 😭 Usne na sach mein photoshoot karna chahiye phir woh post karega … https // tco / 5RSlSbZNtt   \n",
       "2  @ RahulGandhi television media congress ke liye nhi h . Ye toh aapko pata chal hi gya hoga . Achha hoga ki Congress ke … https // t . co / HmH8M7PTaK   \n",
       "3                             @ AmitShah @ narendramodi All India me nrc lagu kare w Kashmir se dhara 370ko khatam kare ham Indian ko apse yahi umid hai   \n",
       "4                    @ Nehr _ who @ TypoMantri @ anjanaomkashyap Pagal hai kya ? They aren ’ t real issues Mandir is important Hindu khatre mei jo hai !   \n",
       "\n",
       "   caps_share  \\\n",
       "0    0.011236   \n",
       "1    0.059829   \n",
       "2    0.092437   \n",
       "3    0.060000   \n",
       "4    0.066038   \n",
       "\n",
       "                                                                                        cleaned_tweet  \\\n",
       "0         nen vist bolest vztek smutek zmatek osam lost beznad nakonec jen klid asi takhle vypad life   \n",
       "1  haan yaar neha kab karega woh post usne na sach mein photoshoot karna chahiye phir woh post karega   \n",
       "2  television media congress ke liye nhi ye toh aapko pata chal hi gya hoga achha hoga ki congress ke   \n",
       "3            all india me nrc lagu kare kashmir se dhara khatam kare ham indian ko apse yahi umid hai   \n",
       "4                  pagal hai kya they are not real issues mandir is important hindu khatre mei jo hai   \n",
       "\n",
       "                                         emojis  \n",
       "0                                                \n",
       "1  loudly_crying_face pensive_face pensive_face  \n",
       "2                                                \n",
       "3                                                \n",
       "4                                                "
      ]
     },
     "execution_count": 5,
     "metadata": {},
     "output_type": "execute_result"
    }
   ],
   "source": [
    "train_data.head()"
   ]
  },
  {
   "cell_type": "code",
   "execution_count": 12,
   "id": "573ce3a7",
   "metadata": {},
   "outputs": [],
   "source": [
    "#creating vector to represent the count of all emojis in a tweet, given that the emoji occurs at least 5 times\n",
    "#in the whole corpus"
   ]
  },
  {
   "cell_type": "code",
   "execution_count": 6,
   "id": "86b501cb",
   "metadata": {},
   "outputs": [
    {
     "data": {
      "text/plain": [
       "(17000, 162)"
      ]
     },
     "execution_count": 6,
     "metadata": {},
     "output_type": "execute_result"
    }
   ],
   "source": [
    "vectorizer = CountVectorizer(min_df = 5)\n",
    "emojis = vectorizer.fit_transform(train_data[\"emojis\"])\n",
    "emojis_array = emojis.toarray()\n",
    "emojis_array.shape"
   ]
  },
  {
   "cell_type": "code",
   "execution_count": 19,
   "id": "68830337",
   "metadata": {},
   "outputs": [],
   "source": [
    "#loading trained word2vec model to create feature vectors for tweets"
   ]
  },
  {
   "cell_type": "code",
   "execution_count": 7,
   "id": "dd7419e7",
   "metadata": {},
   "outputs": [],
   "source": [
    "wv_model = pickle.load(open(\"wv_model.pkl\", \"rb\"))\n",
    "wv = wv_model.wv"
   ]
  },
  {
   "cell_type": "code",
   "execution_count": 32,
   "id": "135a1cfa",
   "metadata": {},
   "outputs": [],
   "source": [
    "#vectorizing the training set"
   ]
  },
  {
   "cell_type": "code",
   "execution_count": 8,
   "id": "0dee83cb",
   "metadata": {},
   "outputs": [
    {
     "name": "stderr",
     "output_type": "stream",
     "text": [
      "C:\\Users\\rahul\\miniconda3\\envs\\thesis\\lib\\site-packages\\numpy\\core\\fromnumeric.py:3474: RuntimeWarning: Mean of empty slice.\n",
      "  return _methods._mean(a, axis=axis, dtype=dtype,\n",
      "C:\\Users\\rahul\\miniconda3\\envs\\thesis\\lib\\site-packages\\numpy\\core\\_methods.py:181: RuntimeWarning: invalid value encountered in true_divide\n",
      "  ret = um.true_divide(\n"
     ]
    },
    {
     "name": "stdout",
     "output_type": "stream",
     "text": [
      "time taken: 2.31 mins\n"
     ]
    }
   ],
   "source": [
    "t = time()\n",
    "corpus_mat = np.empty((0, 300))\n",
    "for tweet in train_data[\"cleaned_tweet\"]:\n",
    "    tweet_mat = np.empty((300, 0))\n",
    "    for word in tweet.split():\n",
    "        if word in wv.key_to_index.keys():\n",
    "            tweet_mat = np.column_stack([tweet_mat, wv[word]])\n",
    "        else:\n",
    "            tweet_mat = np.column_stack([tweet_mat, np.zeros(300)])\n",
    "    tweet_vec = np.mean(tweet_mat, axis = 1)\n",
    "    corpus_mat = np.vstack([corpus_mat, tweet_vec])\n",
    "corpus_mat = np.column_stack([corpus_mat, emojis_array])\n",
    "corpus_mat = np.column_stack([corpus_mat, train_data[\"caps_share\"].values])\n",
    "corpus_mat = np.column_stack([corpus_mat, train_data[\"polarity\"].values])\n",
    "print(\"time taken: {} mins\".format(round((time() - t)/60, 2)))"
   ]
  },
  {
   "cell_type": "code",
   "execution_count": null,
   "id": "486d92e1",
   "metadata": {},
   "outputs": [],
   "source": [
    "#Defining our classifier pipeline which will normalise our data, train on it and predict the polarity when fed new data.\n",
    "#We replace any missing values with 0.\n",
    "#We use power transformation on the 300 columns which are the word2vec vectors to ensure they are as close to Gaussian\n",
    "#as possible. This prevents the classifier from putting too much weight on features that have a much higher variance.\n",
    "#We define a parameter grid on which to run Grid Search."
   ]
  },
  {
   "cell_type": "code",
   "execution_count": 9,
   "id": "0bb680e5",
   "metadata": {},
   "outputs": [],
   "source": [
    "vector_preprocess = Pipeline(\n",
    "    [(\"impute values\", SimpleImputer(missing_values = np.nan, strategy = \"constant\", fill_value = 0)),\n",
    "     (\"scaler\", PowerTransformer())])\n",
    "\n",
    "preprocessor = ColumnTransformer(\n",
    "    [(\"vector_preprocess\", vector_preprocess, slice(0, 300))], remainder = \"passthrough\")\n",
    "\n",
    "pipe = Pipeline(\n",
    "    [(\"preprocessor\", preprocessor), (\"svc\", SVC(class_weight = \"balanced\", random_state = 42, \\\n",
    "                                                 decision_function_shape = \"ovr\", break_ties = True))],\n",
    "    memory = \"SVC\")\n",
    "\n",
    "param_grid = [\n",
    "    {\"svc__kernel\": [\"rbf\"],\n",
    "    \"svc__C\": [0.01, 0.1, 0.5, 1, 2, 5, 10, 100],\n",
    "    \"svc__gamma\": [0.0001, 0.001, 0.01, 0.1, 1, 10, 100]}\n",
    "]"
   ]
  },
  {
   "cell_type": "code",
   "execution_count": 24,
   "id": "0cd0d304",
   "metadata": {},
   "outputs": [],
   "source": [
    "#defining x and y for training"
   ]
  },
  {
   "cell_type": "code",
   "execution_count": 37,
   "id": "0275dce2",
   "metadata": {},
   "outputs": [
    {
     "name": "stdout",
     "output_type": "stream",
     "text": [
      "(17000, 463) (17000,)\n"
     ]
    }
   ],
   "source": [
    "x = corpus_mat[:, :-1]\n",
    "y = corpus_mat[:, -1]\n",
    "print(x.shape, y.shape)"
   ]
  },
  {
   "cell_type": "code",
   "execution_count": 27,
   "id": "b4ca024b",
   "metadata": {},
   "outputs": [],
   "source": [
    "#implementing 5-fold cross validation on previously defined grid"
   ]
  },
  {
   "cell_type": "code",
   "execution_count": 12,
   "id": "511ad0ae",
   "metadata": {},
   "outputs": [
    {
     "name": "stdout",
     "output_type": "stream",
     "text": [
      "Fitting 5 folds for each of 56 candidates, totalling 280 fits\n",
      "best params are: {'svc__C': 5, 'svc__gamma': 0.001, 'svc__kernel': 'rbf'}\n",
      "time taken: 0.12 mins\n"
     ]
    }
   ],
   "source": [
    "t = time()\n",
    "cv = StratifiedKFold(n_splits = 5, shuffle = True, random_state = 42)\n",
    "search = GridSearchCV(\n",
    "    pipe,\n",
    "    param_grid = param_grid,\n",
    "    scoring = \"f1_weighted\",\n",
    "    n_jobs = -4,\n",
    "    cv = cv,\n",
    "    refit = True,\n",
    "    verbose = 1.5)\n",
    "result = search.fit(x, y)\n",
    "best_model = result.best_estimator_\n",
    "best_params = result.best_params_\n",
    "print(\"best params are: {}\".format(result.best_params_))\n",
    "print(\"time taken: {} mins\".format(round((time() - t)/60, 2)))"
   ]
  },
  {
   "cell_type": "code",
   "execution_count": 28,
   "id": "2af54c03",
   "metadata": {},
   "outputs": [],
   "source": [
    "#choosing the model with highest average accuracy across the 5 folds as our final model"
   ]
  },
  {
   "cell_type": "code",
   "execution_count": 13,
   "id": "6210261b",
   "metadata": {},
   "outputs": [],
   "source": [
    "pipe = best_model"
   ]
  },
  {
   "cell_type": "code",
   "execution_count": 14,
   "id": "a124242b",
   "metadata": {},
   "outputs": [
    {
     "data": {
      "text/plain": [
       "Pipeline(memory='SVC',\n",
       "         steps=[('preprocessor',\n",
       "                 ColumnTransformer(remainder='passthrough',\n",
       "                                   transformers=[('vector_preprocess',\n",
       "                                                  Pipeline(steps=[('impute '\n",
       "                                                                   'values',\n",
       "                                                                   SimpleImputer(fill_value=0,\n",
       "                                                                                 strategy='constant')),\n",
       "                                                                  ('scaler',\n",
       "                                                                   PowerTransformer())]),\n",
       "                                                  slice(0, 300, None))])),\n",
       "                ('svc',\n",
       "                 SVC(C=5, break_ties=True, class_weight='balanced', gamma=0.001,\n",
       "                     random_state=42))])"
      ]
     },
     "execution_count": 14,
     "metadata": {},
     "output_type": "execute_result"
    }
   ],
   "source": [
    "pipe"
   ]
  },
  {
   "cell_type": "code",
   "execution_count": 15,
   "id": "d92f6f1d",
   "metadata": {},
   "outputs": [],
   "source": [
    "_params = best_params"
   ]
  },
  {
   "cell_type": "code",
   "execution_count": 16,
   "id": "92a21992",
   "metadata": {},
   "outputs": [
    {
     "data": {
      "text/plain": [
       "{'svc__C': 5, 'svc__gamma': 0.001, 'svc__kernel': 'rbf'}"
      ]
     },
     "execution_count": 16,
     "metadata": {},
     "output_type": "execute_result"
    }
   ],
   "source": [
    "_params"
   ]
  },
  {
   "cell_type": "code",
   "execution_count": 29,
   "id": "8d1b2a6f",
   "metadata": {},
   "outputs": [],
   "source": [
    "#training classifier on the entire training data"
   ]
  },
  {
   "cell_type": "code",
   "execution_count": 17,
   "id": "15dcdfc0",
   "metadata": {},
   "outputs": [
    {
     "name": "stdout",
     "output_type": "stream",
     "text": [
      "time taken: 0.0 mins\n"
     ]
    }
   ],
   "source": [
    "t = time()\n",
    "pipe.fit(x, y)\n",
    "print(\"time taken: {} mins\".format(round((time() - t)/60, 2)))"
   ]
  },
  {
   "cell_type": "code",
   "execution_count": 33,
   "id": "00e39ba0",
   "metadata": {},
   "outputs": [],
   "source": [
    "#loading the test data"
   ]
  },
  {
   "cell_type": "code",
   "execution_count": 18,
   "id": "e1a2f6c3",
   "metadata": {},
   "outputs": [
    {
     "data": {
      "text/plain": [
       "(3000, 5)"
      ]
     },
     "execution_count": 18,
     "metadata": {},
     "output_type": "execute_result"
    }
   ],
   "source": [
    "test_data = pickle.load(open(\"test_data.pkl\", \"rb\"))\n",
    "test_data.shape"
   ]
  },
  {
   "cell_type": "code",
   "execution_count": 19,
   "id": "b366c793",
   "metadata": {},
   "outputs": [
    {
     "data": {
      "text/html": [
       "<div>\n",
       "<style scoped>\n",
       "    .dataframe tbody tr th:only-of-type {\n",
       "        vertical-align: middle;\n",
       "    }\n",
       "\n",
       "    .dataframe tbody tr th {\n",
       "        vertical-align: top;\n",
       "    }\n",
       "\n",
       "    .dataframe thead th {\n",
       "        text-align: right;\n",
       "    }\n",
       "</style>\n",
       "<table border=\"1\" class=\"dataframe\">\n",
       "  <thead>\n",
       "    <tr style=\"text-align: right;\">\n",
       "      <th></th>\n",
       "      <th>id</th>\n",
       "      <th>tweet</th>\n",
       "      <th>caps_share</th>\n",
       "      <th>cleaned_tweet</th>\n",
       "      <th>emojis</th>\n",
       "    </tr>\n",
       "  </thead>\n",
       "  <tbody>\n",
       "    <tr>\n",
       "      <th>0</th>\n",
       "      <td>20803</td>\n",
       "      <td>@ 454dkhan @ Heisunberg _ Agr kse ko itni importantce chaeay ni tou ðŸ˜…</td>\n",
       "      <td>0.033333</td>\n",
       "      <td>kse ko itni importantce chaeay ni tou</td>\n",
       "      <td></td>\n",
       "    </tr>\n",
       "    <tr>\n",
       "      <th>1</th>\n",
       "      <td>20187</td>\n",
       "      <td>logon ko alloo pyaz tomator me toh allah pak ka naam nazar aa jata hai pr aankhon k samne allah pak ke bande nazar â€¦ https // t . co / hBg7zS0viy</td>\n",
       "      <td>0.017094</td>\n",
       "      <td>logon ko alloo pyaz tomator me toh allah pak ka naam nazar aa jata hai pr aankhon samne allah pak ke bande nazar</td>\n",
       "      <td></td>\n",
       "    </tr>\n",
       "    <tr>\n",
       "      <th>2</th>\n",
       "      <td>20953</td>\n",
       "      <td>@ LambaAlka Wafadaar bane rahane ka nayab tarika hai lamba ji aap us party se Judi hai jiska sardar @ ArvindKejriwal â€¦ https // t . co / krVTd1ZAEK</td>\n",
       "      <td>0.098361</td>\n",
       "      <td>wafadaar bane rahane ka nayab tarika hai lamba ji aap us party se judi hai jiska sardar</td>\n",
       "      <td></td>\n",
       "    </tr>\n",
       "    <tr>\n",
       "      <th>3</th>\n",
       "      <td>13777</td>\n",
       "      <td>@ varnishant @ narendramodi Chup bhosdike . He has been exonerated of all the charges . Tum log ghanta prove nahi kar paaye .</td>\n",
       "      <td>0.029126</td>\n",
       "      <td>chup bhosdike he has been exonerated of all the charges tum log ghanta prove nahi kar paaye</td>\n",
       "      <td></td>\n",
       "    </tr>\n",
       "    <tr>\n",
       "      <th>4</th>\n",
       "      <td>20990</td>\n",
       "      <td>RT @ HardeepSPuri à¨¦à¨¾à¨¤à¨¾ à¨¸à©‹ à¨¸à¨¾à¨²à¨¾à¨¹à©€à¨ à¨œà¨¿ à¨¸à¨­à¨¸à©ˆ à¨¦à©‡ à¨†à¨§à¨¾à¨°à© à¥¥ Praise the Great Giver who gives sustenance to all . Paid obeisance at Gurudwara Sr â€¦</td>\n",
       "      <td>0.065089</td>\n",
       "      <td>praise the great giver who gives sustenance to all paid obeisance at gurudwara sr</td>\n",
       "      <td>copyright copyright copyright copyright copyright</td>\n",
       "    </tr>\n",
       "  </tbody>\n",
       "</table>\n",
       "</div>"
      ],
      "text/plain": [
       "      id  \\\n",
       "0  20803   \n",
       "1  20187   \n",
       "2  20953   \n",
       "3  13777   \n",
       "4  20990   \n",
       "\n",
       "                                                                                                                                                                                                tweet  \\\n",
       "0                                                                                                                            @ 454dkhan @ Heisunberg _ Agr kse ko itni importantce chaeay ni tou ðŸ˜…   \n",
       "1                                                 logon ko alloo pyaz tomator me toh allah pak ka naam nazar aa jata hai pr aankhon k samne allah pak ke bande nazar â€¦ https // t . co / hBg7zS0viy   \n",
       "2                                               @ LambaAlka Wafadaar bane rahane ka nayab tarika hai lamba ji aap us party se Judi hai jiska sardar @ ArvindKejriwal â€¦ https // t . co / krVTd1ZAEK   \n",
       "3                                                                       @ varnishant @ narendramodi Chup bhosdike . He has been exonerated of all the charges . Tum log ghanta prove nahi kar paaye .   \n",
       "4  RT @ HardeepSPuri à¨¦à¨¾à¨¤à¨¾ à¨¸à©‹ à¨¸à¨¾à¨²à¨¾à¨¹à©€à¨ à¨œà¨¿ à¨¸à¨­à¨¸à©ˆ à¨¦à©‡ à¨†à¨§à¨¾à¨°à© à¥¥ Praise the Great Giver who gives sustenance to all . Paid obeisance at Gurudwara Sr â€¦   \n",
       "\n",
       "   caps_share  \\\n",
       "0    0.033333   \n",
       "1    0.017094   \n",
       "2    0.098361   \n",
       "3    0.029126   \n",
       "4    0.065089   \n",
       "\n",
       "                                                                                                      cleaned_tweet  \\\n",
       "0                                                                             kse ko itni importantce chaeay ni tou   \n",
       "1  logon ko alloo pyaz tomator me toh allah pak ka naam nazar aa jata hai pr aankhon samne allah pak ke bande nazar   \n",
       "2                           wafadaar bane rahane ka nayab tarika hai lamba ji aap us party se judi hai jiska sardar   \n",
       "3                       chup bhosdike he has been exonerated of all the charges tum log ghanta prove nahi kar paaye   \n",
       "4                                 praise the great giver who gives sustenance to all paid obeisance at gurudwara sr   \n",
       "\n",
       "                                              emojis  \n",
       "0                                                     \n",
       "1                                                     \n",
       "2                                                     \n",
       "3                                                     \n",
       "4  copyright copyright copyright copyright copyright  "
      ]
     },
     "execution_count": 19,
     "metadata": {},
     "output_type": "execute_result"
    }
   ],
   "source": [
    "test_data.head()"
   ]
  },
  {
   "cell_type": "code",
   "execution_count": 37,
   "id": "09fb607a",
   "metadata": {},
   "outputs": [],
   "source": [
    "#creating emojis array for test data"
   ]
  },
  {
   "cell_type": "code",
   "execution_count": 20,
   "id": "54640b3a",
   "metadata": {},
   "outputs": [
    {
     "data": {
      "text/plain": [
       "(3000, 162)"
      ]
     },
     "execution_count": 20,
     "metadata": {},
     "output_type": "execute_result"
    }
   ],
   "source": [
    "test_emojis = vectorizer.transform(test_data[\"emojis\"])\n",
    "test_emojis_array = test_emojis.toarray()\n",
    "test_emojis_array.shape"
   ]
  },
  {
   "cell_type": "code",
   "execution_count": 21,
   "id": "b9f2d2ac",
   "metadata": {},
   "outputs": [],
   "source": [
    "#vectorizing the test data"
   ]
  },
  {
   "cell_type": "code",
   "execution_count": 22,
   "id": "74b9a5d7",
   "metadata": {},
   "outputs": [
    {
     "name": "stderr",
     "output_type": "stream",
     "text": [
      "C:\\Users\\rahul\\miniconda3\\envs\\thesis\\lib\\site-packages\\numpy\\core\\fromnumeric.py:3474: RuntimeWarning: Mean of empty slice.\n",
      "  return _methods._mean(a, axis=axis, dtype=dtype,\n",
      "C:\\Users\\rahul\\miniconda3\\envs\\thesis\\lib\\site-packages\\numpy\\core\\_methods.py:181: RuntimeWarning: invalid value encountered in true_divide\n",
      "  ret = um.true_divide(\n"
     ]
    },
    {
     "name": "stdout",
     "output_type": "stream",
     "text": [
      "time taken: 0.08 mins\n"
     ]
    }
   ],
   "source": [
    "t = time()\n",
    "test_mat = np.empty((0, 300))\n",
    "for tweet in test_data[\"cleaned_tweet\"]:\n",
    "    tweet_mat = np.empty((300, 0))\n",
    "    for word in tweet.split():\n",
    "        if word in wv.key_to_index.keys():\n",
    "            tweet_mat = np.column_stack([tweet_mat, wv[word]])\n",
    "        else:\n",
    "            tweet_mat = np.column_stack([tweet_mat, np.zeros(300)])\n",
    "    tweet_vec = np.mean(tweet_mat, axis = 1)\n",
    "    test_mat = np.vstack([test_mat, tweet_vec])\n",
    "test_mat = np.column_stack([test_mat, test_emojis_array])\n",
    "test_mat = np.column_stack([test_mat, test_data[\"caps_share\"].values])\n",
    "print(\"time taken: {} mins\".format(round((time() - t)/60, 2)))"
   ]
  },
  {
   "cell_type": "code",
   "execution_count": 42,
   "id": "175ba1e2",
   "metadata": {},
   "outputs": [],
   "source": [
    "#loading true labels for the test data"
   ]
  },
  {
   "cell_type": "code",
   "execution_count": 23,
   "id": "db017036",
   "metadata": {},
   "outputs": [],
   "source": [
    "labels = []\n",
    "with open(\"test_labels.txt\", \"r\") as f:\n",
    "    labels_file = csv.reader(f, delimiter = \",\")\n",
    "    for row in labels_file:\n",
    "        if row != \"\":\n",
    "            labels.append(row[1])"
   ]
  },
  {
   "cell_type": "code",
   "execution_count": 24,
   "id": "c90df181",
   "metadata": {},
   "outputs": [],
   "source": [
    "y_true = np.array(labels)\n",
    "y_true = LE.fit_transform(y_true)"
   ]
  },
  {
   "cell_type": "code",
   "execution_count": 25,
   "id": "baa6b8cd",
   "metadata": {},
   "outputs": [
    {
     "data": {
      "text/plain": [
       "array([1, 1, 1, ..., 1, 1, 0], dtype=int64)"
      ]
     },
     "execution_count": 25,
     "metadata": {},
     "output_type": "execute_result"
    }
   ],
   "source": [
    "y_true"
   ]
  },
  {
   "cell_type": "code",
   "execution_count": 47,
   "id": "bc656d8b",
   "metadata": {},
   "outputs": [],
   "source": [
    "#predicting class for all tweets in the test dataset"
   ]
  },
  {
   "cell_type": "code",
   "execution_count": 26,
   "id": "f9f3c6d5",
   "metadata": {},
   "outputs": [
    {
     "name": "stdout",
     "output_type": "stream",
     "text": [
      "time taken: 0.0 mins\n"
     ]
    }
   ],
   "source": [
    "t = time()\n",
    "y_predict = pipe.predict(test_mat)\n",
    "print(\"time taken: {} mins\".format(round((time() - t)/60, 2)))"
   ]
  },
  {
   "cell_type": "code",
   "execution_count": 49,
   "id": "9f58b8c6",
   "metadata": {},
   "outputs": [],
   "source": [
    "#finding out accuracy measure of the classifier"
   ]
  },
  {
   "cell_type": "code",
   "execution_count": 27,
   "id": "3c02f083",
   "metadata": {},
   "outputs": [
    {
     "data": {
      "text/plain": [
       "0.49375593639499143"
      ]
     },
     "execution_count": 27,
     "metadata": {},
     "output_type": "execute_result"
    }
   ],
   "source": [
    "score = f1_score(y_true, y_predict, average = \"weighted\")\n",
    "score"
   ]
  },
  {
   "cell_type": "code",
   "execution_count": 58,
   "id": "02b04f64",
   "metadata": {},
   "outputs": [],
   "source": [
    "#plotting confusion matrix"
   ]
  },
  {
   "cell_type": "code",
   "execution_count": 28,
   "id": "ae8c49dc",
   "metadata": {},
   "outputs": [
    {
     "data": {
      "image/png": "[encoded data removed]",
      "text/plain": [
       "<Figure size 640x480 with 2 Axes>"
      ]
     },
     "metadata": {},
     "output_type": "display_data"
    }
   ],
   "source": [
    "CM = ConfusionMatrixDisplay.from_predictions(y_true, y_predict)"
   ]
  },
  {
   "cell_type": "code",
   "execution_count": 29,
   "id": "51320afb",
   "metadata": {},
   "outputs": [],
   "source": [
    "CM.figure_.savefig(\"confusion_matrix.png\", bbox_inches = \"tight\")"
   ]
  },
  {
   "cell_type": "code",
   "execution_count": 60,
   "id": "b57c3f64",
   "metadata": {},
   "outputs": [],
   "source": [
    "#creating classification report"
   ]
  },
  {
   "cell_type": "code",
   "execution_count": 30,
   "id": "fe16e6dc",
   "metadata": {},
   "outputs": [
    {
     "name": "stdout",
     "output_type": "stream",
     "text": [
      "              precision    recall  f1-score   support\n",
      "\n",
      "           0       0.50      0.34      0.41       900\n",
      "           1       0.42      0.48      0.45      1100\n",
      "           2       0.59      0.66      0.63      1000\n",
      "\n",
      "    accuracy                           0.50      3000\n",
      "   macro avg       0.50      0.49      0.49      3000\n",
      "weighted avg       0.50      0.50      0.49      3000\n",
      "\n"
     ]
    }
   ],
   "source": [
    "print(classification_report(y_true, y_predict))"
   ]
  },
  {
   "cell_type": "code",
   "execution_count": 3,
   "id": "995d8cbe",
   "metadata": {},
   "outputs": [],
   "source": [
    "#adding the true y-values to the test set"
   ]
  },
  {
   "cell_type": "code",
   "execution_count": 31,
   "id": "c6928eb8",
   "metadata": {},
   "outputs": [],
   "source": [
    "test_mat = np.column_stack([test_mat, y_true])"
   ]
  },
  {
   "cell_type": "code",
   "execution_count": 1,
   "id": "62e79e49",
   "metadata": {},
   "outputs": [],
   "source": [
    "#combining all the training and testing data and training the classifier with the best parameter combination\n",
    "#on the combined data"
   ]
  },
  {
   "cell_type": "code",
   "execution_count": 38,
   "id": "94414302",
   "metadata": {},
   "outputs": [],
   "source": [
    "all_data = np.vstack([corpus_mat, test_mat])\n",
    "x = all_data[:, :-1]\n",
    "y = all_data[:, -1]"
   ]
  },
  {
   "cell_type": "code",
   "execution_count": 39,
   "id": "97171ad2",
   "metadata": {},
   "outputs": [
    {
     "data": {
      "text/plain": [
       "((20000, 463), (20000,))"
      ]
     },
     "execution_count": 39,
     "metadata": {},
     "output_type": "execute_result"
    }
   ],
   "source": [
    "x.shape, y.shape"
   ]
  },
  {
   "cell_type": "code",
   "execution_count": 4,
   "id": "93adbf40",
   "metadata": {},
   "outputs": [],
   "source": [
    "#defining the classifier based on the best parameter combination discovered by the grid-search cv"
   ]
  },
  {
   "cell_type": "code",
   "execution_count": 39,
   "id": "fb82dd72",
   "metadata": {},
   "outputs": [],
   "source": [
    "pipe = best_model"
   ]
  },
  {
   "cell_type": "code",
   "execution_count": 33,
   "id": "4dbee2d6",
   "metadata": {},
   "outputs": [
    {
     "data": {
      "text/plain": [
       "Pipeline(memory='SVC',\n",
       "         steps=[('preprocessor',\n",
       "                 ColumnTransformer(remainder='passthrough',\n",
       "                                   transformers=[('vector_preprocess',\n",
       "                                                  Pipeline(steps=[('impute '\n",
       "                                                                   'values',\n",
       "                                                                   SimpleImputer(fill_value=0,\n",
       "                                                                                 strategy='constant')),\n",
       "                                                                  ('scaler',\n",
       "                                                                   PowerTransformer())]),\n",
       "                                                  slice(0, 300, None))])),\n",
       "                ('svc',\n",
       "                 SVC(C=5, break_ties=True, class_weight='balanced', gamma=0.001,\n",
       "                     random_state=42))])"
      ]
     },
     "execution_count": 33,
     "metadata": {},
     "output_type": "execute_result"
    }
   ],
   "source": [
    "pipe"
   ]
  },
  {
   "cell_type": "code",
   "execution_count": 34,
   "id": "a0cb3ad8",
   "metadata": {},
   "outputs": [
    {
     "name": "stdout",
     "output_type": "stream",
     "text": [
      "time taken: 2.88 mins\n"
     ]
    }
   ],
   "source": [
    "t = time()\n",
    "pipe.fit(x, y)\n",
    "print(\"time taken: {} mins\".format(round((time() - t)/60, 2)))"
   ]
  },
  {
   "cell_type": "code",
   "execution_count": 5,
   "id": "7469503e",
   "metadata": {},
   "outputs": [],
   "source": [
    "#saving the trained classifier to disk"
   ]
  },
  {
   "cell_type": "code",
   "execution_count": 35,
   "id": "4117a73d",
   "metadata": {},
   "outputs": [],
   "source": [
    "pickle.dump(pipe, open(\"classifier.pkl\", \"wb\"))"
   ]
  },
  {
   "cell_type": "code",
   "execution_count": 6,
   "id": "ab88ccc0",
   "metadata": {},
   "outputs": [],
   "source": [
    "#saving the emoji vectorizer to disk"
   ]
  },
  {
   "cell_type": "code",
   "execution_count": 36,
   "id": "9098ac84",
   "metadata": {},
   "outputs": [],
   "source": [
    "pickle.dump(vectorizer, open(\"emoji vectorizer.pkl\", \"wb\"))"
   ]
  },
  {
   "cell_type": "code",
   "execution_count": 7,
   "id": "46ac7656",
   "metadata": {},
   "outputs": [],
   "source": [
    "#if you are replicating the entire thesis workflow, you must save both the classifier and the emoji vectorizer\n",
    "# in the folder \"Tweets Preprocessing\""
   ]
  }
 ],
 "metadata": {
  "kernelspec": {
   "display_name": "Python [conda env:thesis]",
   "language": "python",
   "name": "conda-env-thesis-py"
  },
  "language_info": {
   "codemirror_mode": {
    "name": "ipython",
    "version": 3
   },
   "file_extension": ".py",
   "mimetype": "text/x-python",
   "name": "python",
   "nbconvert_exporter": "python",
   "pygments_lexer": "ipython3",
   "version": "3.8.13"
  }
 },
 "nbformat": 4,
 "nbformat_minor": 5
}
