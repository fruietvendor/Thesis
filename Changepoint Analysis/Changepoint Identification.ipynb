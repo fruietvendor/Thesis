{
 "cells": [
  {
   "cell_type": "code",
   "execution_count": 2,
   "id": "0bfed5a8",
   "metadata": {},
   "outputs": [],
   "source": [
    "import pandas as pd\n",
    "import pickle\n",
    "pd.set_option(\"display.max_colwidth\", None)\n",
    "pd.set_option(\"display.max_rows\", None)\n",
    "from time import time\n",
    "import numpy as np\n",
    "import os\n",
    "import re\n",
    "import csv\n",
    "import ruptures as rpt\n",
    "import matplotlib.pyplot as plt\n",
    "import seaborn as sns\n",
    "import colorcet as cc\n",
    "import warnings\n",
    "from matplotlib.lines import Line2D"
   ]
  },
  {
   "cell_type": "code",
   "execution_count": 3,
   "id": "65a930f1",
   "metadata": {},
   "outputs": [],
   "source": [
    "sns.set_style(\"darkgrid\")\n",
    "sns.set_context(\"paper\")\n",
    "warnings.filterwarnings(\"ignore\")\n",
    "plt.set_loglevel('WARNING')\n",
    "colors = sns.color_palette(cc.glasbey_dark, n_colors = 12)"
   ]
  },
  {
   "cell_type": "code",
   "execution_count": 4,
   "id": "225d315f",
   "metadata": {},
   "outputs": [],
   "source": [
    "#loading the dataset"
   ]
  },
  {
   "cell_type": "code",
   "execution_count": 5,
   "id": "ca9c4f1a",
   "metadata": {},
   "outputs": [],
   "source": [
    "tweets = pickle.load(open(\"national tweet_details.pkl\", \"rb\"))"
   ]
  },
  {
   "cell_type": "code",
   "execution_count": 6,
   "id": "94dc1a83",
   "metadata": {},
   "outputs": [
    {
     "data": {
      "text/html": [
       "<div>\n",
       "<style scoped>\n",
       "    .dataframe tbody tr th:only-of-type {\n",
       "        vertical-align: middle;\n",
       "    }\n",
       "\n",
       "    .dataframe tbody tr th {\n",
       "        vertical-align: top;\n",
       "    }\n",
       "\n",
       "    .dataframe thead th {\n",
       "        text-align: right;\n",
       "    }\n",
       "</style>\n",
       "<table border=\"1\" class=\"dataframe\">\n",
       "  <thead>\n",
       "    <tr style=\"text-align: right;\">\n",
       "      <th></th>\n",
       "      <th>date</th>\n",
       "      <th>total tweets</th>\n",
       "      <th>total negative tweets</th>\n",
       "      <th>muslim tweets</th>\n",
       "      <th>muslim negative tweets</th>\n",
       "      <th>muslim tablighi tweets</th>\n",
       "      <th>muslim tablighi negative tweets</th>\n",
       "      <th>muslim corona tweets</th>\n",
       "      <th>muslim corona negative tweets</th>\n",
       "      <th>state</th>\n",
       "      <th>datetime</th>\n",
       "      <th>day</th>\n",
       "    </tr>\n",
       "  </thead>\n",
       "  <tbody>\n",
       "    <tr>\n",
       "      <th>0</th>\n",
       "      <td>2020-01-22</td>\n",
       "      <td>802</td>\n",
       "      <td>46</td>\n",
       "      <td>5</td>\n",
       "      <td>1</td>\n",
       "      <td>0</td>\n",
       "      <td>0</td>\n",
       "      <td>0</td>\n",
       "      <td>0</td>\n",
       "      <td>Andhra_Pradesh</td>\n",
       "      <td>2020-01-22</td>\n",
       "      <td>Wednesday</td>\n",
       "    </tr>\n",
       "    <tr>\n",
       "      <th>1</th>\n",
       "      <td>2020-01-23</td>\n",
       "      <td>880</td>\n",
       "      <td>41</td>\n",
       "      <td>16</td>\n",
       "      <td>9</td>\n",
       "      <td>0</td>\n",
       "      <td>0</td>\n",
       "      <td>0</td>\n",
       "      <td>0</td>\n",
       "      <td>Andhra_Pradesh</td>\n",
       "      <td>2020-01-23</td>\n",
       "      <td>Thursday</td>\n",
       "    </tr>\n",
       "    <tr>\n",
       "      <th>2</th>\n",
       "      <td>2020-01-24</td>\n",
       "      <td>874</td>\n",
       "      <td>38</td>\n",
       "      <td>7</td>\n",
       "      <td>4</td>\n",
       "      <td>0</td>\n",
       "      <td>0</td>\n",
       "      <td>0</td>\n",
       "      <td>0</td>\n",
       "      <td>Andhra_Pradesh</td>\n",
       "      <td>2020-01-24</td>\n",
       "      <td>Friday</td>\n",
       "    </tr>\n",
       "    <tr>\n",
       "      <th>3</th>\n",
       "      <td>2020-01-25</td>\n",
       "      <td>812</td>\n",
       "      <td>43</td>\n",
       "      <td>7</td>\n",
       "      <td>1</td>\n",
       "      <td>0</td>\n",
       "      <td>0</td>\n",
       "      <td>0</td>\n",
       "      <td>0</td>\n",
       "      <td>Andhra_Pradesh</td>\n",
       "      <td>2020-01-25</td>\n",
       "      <td>Saturday</td>\n",
       "    </tr>\n",
       "    <tr>\n",
       "      <th>4</th>\n",
       "      <td>2020-01-26</td>\n",
       "      <td>936</td>\n",
       "      <td>50</td>\n",
       "      <td>16</td>\n",
       "      <td>8</td>\n",
       "      <td>0</td>\n",
       "      <td>0</td>\n",
       "      <td>0</td>\n",
       "      <td>0</td>\n",
       "      <td>Andhra_Pradesh</td>\n",
       "      <td>2020-01-26</td>\n",
       "      <td>Sunday</td>\n",
       "    </tr>\n",
       "  </tbody>\n",
       "</table>\n",
       "</div>"
      ],
      "text/plain": [
       "         date  total tweets  total negative tweets  muslim tweets  \\\n",
       "0  2020-01-22           802                     46              5   \n",
       "1  2020-01-23           880                     41             16   \n",
       "2  2020-01-24           874                     38              7   \n",
       "3  2020-01-25           812                     43              7   \n",
       "4  2020-01-26           936                     50             16   \n",
       "\n",
       "   muslim negative tweets  muslim tablighi tweets  \\\n",
       "0                       1                       0   \n",
       "1                       9                       0   \n",
       "2                       4                       0   \n",
       "3                       1                       0   \n",
       "4                       8                       0   \n",
       "\n",
       "   muslim tablighi negative tweets  muslim corona tweets  \\\n",
       "0                                0                     0   \n",
       "1                                0                     0   \n",
       "2                                0                     0   \n",
       "3                                0                     0   \n",
       "4                                0                     0   \n",
       "\n",
       "   muslim corona negative tweets           state   datetime        day  \n",
       "0                              0  Andhra_Pradesh 2020-01-22  Wednesday  \n",
       "1                              0  Andhra_Pradesh 2020-01-23   Thursday  \n",
       "2                              0  Andhra_Pradesh 2020-01-24     Friday  \n",
       "3                              0  Andhra_Pradesh 2020-01-25   Saturday  \n",
       "4                              0  Andhra_Pradesh 2020-01-26     Sunday  "
      ]
     },
     "execution_count": 6,
     "metadata": {},
     "output_type": "execute_result"
    }
   ],
   "source": [
    "tweets.head()"
   ]
  },
  {
   "cell_type": "code",
   "execution_count": 8,
   "id": "4efe9ed5",
   "metadata": {},
   "outputs": [],
   "source": [
    "#creating dictionary of major events "
   ]
  },
  {
   "cell_type": "code",
   "execution_count": 9,
   "id": "70749ae2",
   "metadata": {},
   "outputs": [],
   "source": [
    "events = {\"2020-03-22\" : \"Janata Curfew\", \"2020-03-25\" : \"National lockdown\", \\\n",
    "          \"2020-03-31\" : \"Tablighi Jamaat declared super spreader event\"}"
   ]
  },
  {
   "cell_type": "code",
   "execution_count": 10,
   "id": "3b7806f4",
   "metadata": {},
   "outputs": [],
   "source": [
    "#creating x-axis ticks for the plots"
   ]
  },
  {
   "cell_type": "code",
   "execution_count": 12,
   "id": "7ed0d4af",
   "metadata": {
    "scrolled": false
   },
   "outputs": [
    {
     "data": {
      "text/plain": [
       "['2020-01-22',\n",
       " '2020-01-29',\n",
       " '2020-02-05',\n",
       " '2020-02-12',\n",
       " '2020-02-19',\n",
       " '2020-02-26',\n",
       " '2020-03-04',\n",
       " '2020-03-11',\n",
       " '2020-03-18',\n",
       " '2020-03-25',\n",
       " '2020-04-01',\n",
       " '2020-04-08',\n",
       " '2020-04-15',\n",
       " '2020-04-22',\n",
       " '2020-04-29',\n",
       " '2020-05-06',\n",
       " '2020-05-13',\n",
       " '2020-05-20',\n",
       " '2020-05-27']"
      ]
     },
     "execution_count": 12,
     "metadata": {},
     "output_type": "execute_result"
    }
   ],
   "source": [
    "start_date = pd.to_datetime(\"2020-01-22\", format = \"%Y-%m-%d\")\n",
    "week_starts = [start_date + pd.Timedelta(i, \"W\") for i in range(19)]\n",
    "starts = [str(week.date()) for week in week_starts]\n",
    "starts"
   ]
  },
  {
   "cell_type": "code",
   "execution_count": 14,
   "id": "6cfc8830",
   "metadata": {},
   "outputs": [],
   "source": [
    "#creating series of interest. is equal to the (number of negative muslim tweets/number of total tweets)*100 \n",
    "#tracked daily"
   ]
  },
  {
   "cell_type": "code",
   "execution_count": 23,
   "id": "56447816",
   "metadata": {},
   "outputs": [],
   "source": [
    "data = (tweets.groupby(\"date\").sum()[\"muslim negative tweets\"]/tweets.groupby(\"date\").sum()[\"total tweets\"])*100"
   ]
  },
  {
   "cell_type": "code",
   "execution_count": 24,
   "id": "07842434",
   "metadata": {},
   "outputs": [
    {
     "data": {
      "text/plain": [
       "date\n",
       "2020-01-22    0.961167\n",
       "2020-01-23    1.183260\n",
       "2020-01-24    1.012582\n",
       "2020-01-25    1.101199\n",
       "2020-01-26    0.903789\n",
       "2020-01-27    1.189493\n",
       "2020-01-28    1.015313\n",
       "2020-01-29    0.795766\n",
       "2020-01-30    1.088165\n",
       "2020-01-31    0.999318\n",
       "2020-02-01    0.548906\n",
       "2020-02-02    0.747086\n",
       "2020-02-03    1.147417\n",
       "2020-02-04    0.861435\n",
       "2020-02-05    0.655040\n",
       "2020-02-06    0.861581\n",
       "2020-02-07    0.742030\n",
       "2020-02-08    0.579698\n",
       "2020-02-09    0.768125\n",
       "2020-02-10    0.792474\n",
       "2020-02-11    0.679991\n",
       "2020-02-12    0.590385\n",
       "2020-02-13    0.510521\n",
       "2020-02-14    0.395867\n",
       "2020-02-15    0.600557\n",
       "2020-02-16    0.639058\n",
       "2020-02-17    0.607903\n",
       "2020-02-18    0.827160\n",
       "2020-02-19    0.669437\n",
       "2020-02-20    0.949771\n",
       "2020-02-21    0.894227\n",
       "2020-02-22    0.757883\n",
       "2020-02-23    0.917019\n",
       "2020-02-24    1.698964\n",
       "2020-02-25    2.884148\n",
       "2020-02-26    2.641567\n",
       "2020-02-27    2.309173\n",
       "2020-02-28    2.169020\n",
       "2020-02-29    1.807517\n",
       "2020-03-01    1.545016\n",
       "2020-03-02    1.291254\n",
       "2020-03-03    0.985057\n",
       "2020-03-04    0.941471\n",
       "2020-03-05    0.961409\n",
       "2020-03-06    1.057946\n",
       "2020-03-07    1.114896\n",
       "2020-03-08    0.768616\n",
       "2020-03-09    0.664200\n",
       "2020-03-10    0.566880\n",
       "2020-03-11    0.554944\n",
       "2020-03-12    0.722940\n",
       "2020-03-13    0.659901\n",
       "2020-03-14    0.624435\n",
       "2020-03-15    0.566030\n",
       "2020-03-16    0.467948\n",
       "2020-03-17    0.531855\n",
       "2020-03-18    0.429067\n",
       "2020-03-19    0.357493\n",
       "2020-03-20    0.229829\n",
       "2020-03-21    0.265283\n",
       "2020-03-22    0.210327\n",
       "2020-03-23    0.263100\n",
       "2020-03-24    0.225678\n",
       "2020-03-25    0.293993\n",
       "2020-03-26    0.548146\n",
       "2020-03-27    0.296050\n",
       "2020-03-28    0.332562\n",
       "2020-03-29    0.222399\n",
       "2020-03-30    0.299965\n",
       "2020-03-31    1.366737\n",
       "2020-04-01    1.791007\n",
       "2020-04-02    1.890696\n",
       "2020-04-03    1.274356\n",
       "2020-04-04    1.037425\n",
       "2020-04-05    0.757478\n",
       "2020-04-06    0.659177\n",
       "2020-04-07    0.711562\n",
       "2020-04-08    0.627068\n",
       "2020-04-09    0.553793\n",
       "2020-04-10    0.742812\n",
       "2020-04-11    0.631322\n",
       "2020-04-12    0.689756\n",
       "2020-04-13    0.469853\n",
       "2020-04-14    0.408722\n",
       "2020-04-15    0.661507\n",
       "2020-04-16    0.925998\n",
       "2020-04-17    0.796052\n",
       "2020-04-18    0.793219\n",
       "2020-04-19    0.939070\n",
       "2020-04-20    1.495823\n",
       "2020-04-21    1.558469\n",
       "2020-04-22    1.551816\n",
       "2020-04-23    0.827939\n",
       "2020-04-24    0.650565\n",
       "2020-04-25    0.640468\n",
       "2020-04-26    0.754660\n",
       "2020-04-27    0.802078\n",
       "2020-04-28    0.743666\n",
       "2020-04-29    0.869606\n",
       "2020-04-30    0.651818\n",
       "2020-05-01    0.629274\n",
       "2020-05-02    0.705047\n",
       "2020-05-03    1.040962\n",
       "2020-05-04    0.703642\n",
       "2020-05-05    0.727427\n",
       "2020-05-06    0.693605\n",
       "2020-05-07    0.696737\n",
       "2020-05-08    0.955673\n",
       "2020-05-09    0.713112\n",
       "2020-05-10    0.724175\n",
       "2020-05-11    0.646913\n",
       "2020-05-12    0.601533\n",
       "2020-05-13    0.371457\n",
       "2020-05-14    0.514522\n",
       "2020-05-15    0.470708\n",
       "2020-05-16    0.504621\n",
       "2020-05-17    0.412901\n",
       "2020-05-18    0.462460\n",
       "2020-05-19    0.515478\n",
       "2020-05-20    0.403875\n",
       "2020-05-21    0.434025\n",
       "2020-05-22    0.316131\n",
       "2020-05-23    0.369128\n",
       "2020-05-24    0.358279\n",
       "2020-05-25    0.333466\n",
       "2020-05-26    0.329403\n",
       "2020-05-27    0.287605\n",
       "2020-05-28    0.293694\n",
       "2020-05-29    0.339219\n",
       "2020-05-30    0.315812\n",
       "dtype: float64"
      ]
     },
     "execution_count": 24,
     "metadata": {},
     "output_type": "execute_result"
    }
   ],
   "source": [
    "data"
   ]
  },
  {
   "cell_type": "code",
   "execution_count": 18,
   "id": "38ef21f0",
   "metadata": {},
   "outputs": [],
   "source": [
    "#training the PELT model with rbf cost function and penalty = 1. Last indetified changepoint is removed because \n",
    "#the last index is always the final identified changepoint"
   ]
  },
  {
   "cell_type": "code",
   "execution_count": 25,
   "id": "8af9ea38",
   "metadata": {},
   "outputs": [],
   "source": [
    "algo = rpt.Pelt(model = \"rbf\")\n",
    "results = algo.fit_predict(data.values, pen = 1)[:-1]"
   ]
  },
  {
   "cell_type": "code",
   "execution_count": 26,
   "id": "3ec5631c",
   "metadata": {},
   "outputs": [
    {
     "data": {
      "image/png": "[encoded data removed]",
      "text/plain": [
       "<Figure size 1600x400 with 1 Axes>"
      ]
     },
     "metadata": {},
     "output_type": "display_data"
    }
   ],
   "source": [
    "fig, ax = plt.subplots(figsize = (16, 4), layout = \"constrained\")\n",
    "ax.plot(data, linestyle = \"-\", color = \"black\")\n",
    "ax.set_xticks(ticks = starts, labels = starts, rotation = 20)\n",
    "ax.set_ylabel(\"Share of all tweets\", labelpad = 10, fontsize = \"large\", fontweight = \"bold\")\n",
    "ax.set_xlabel(\"Date\", labelpad = 10, fontsize = \"large\", fontweight = \"bold\")\n",
    "legend_lines = []\n",
    "legend_labels = []\n",
    "for i, _result in enumerate(results):\n",
    "    ax.axvline(x = data.index[_result - 1], color = colors[i], linestyle = \"-\", alpha = 0.6)\n",
    "    legend_lines.append(Line2D([0], [0], color = colors[i], lw = 4, alpha = 0.6))\n",
    "    legend_labels.append(data.index[_result - 1])\n",
    "fig.legend(legend_lines, legend_labels, loc = \"lower left\", bbox_to_anchor = (0.035, 1.0, 0.965, .02), mode = \"expand\", \\\n",
    "           ncol = len(results), fontsize = \"medium\", frameon = True, fancybox = True)\n",
    "ax.margins(x = 0);"
   ]
  },
  {
   "cell_type": "code",
   "execution_count": 27,
   "id": "98b3403d",
   "metadata": {},
   "outputs": [],
   "source": [
    "fig.savefig(\"changepoints_rbf_1.png\", bbox_inches = \"tight\")"
   ]
  }
 ],
 "metadata": {
  "kernelspec": {
   "display_name": "Python [conda env:thesis]",
   "language": "python",
   "name": "conda-env-thesis-py"
  },
  "language_info": {
   "codemirror_mode": {
    "name": "ipython",
    "version": 3
   },
   "file_extension": ".py",
   "mimetype": "text/x-python",
   "name": "python",
   "nbconvert_exporter": "python",
   "pygments_lexer": "ipython3",
   "version": "3.8.13"
  }
 },
 "nbformat": 4,
 "nbformat_minor": 5
}
